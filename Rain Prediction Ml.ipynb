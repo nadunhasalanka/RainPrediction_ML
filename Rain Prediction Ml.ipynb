{
 "cells": [
  {
   "cell_type": "markdown",
   "id": "7503007c-b70a-4786-9053-b05298c4b04d",
   "metadata": {},
   "source": []
  },
  {
   "cell_type": "markdown",
   "id": "0262ce01-9f8e-4ce4-96d0-833e9874a2be",
   "metadata": {},
   "source": [
    "**import Libraries**"
   ]
  },
  {
   "cell_type": "code",
   "execution_count": 22,
   "id": "531e816c-0b95-4174-98a3-32f5ae81cbf8",
   "metadata": {},
   "outputs": [],
   "source": [
    "import numpy as np\n",
    "import pandas as pd\n",
    "import matplotlib.pyplot as plt\n",
    "import seaborn as sns\n",
    "from sklearn.utils import resample\n",
    "from sklearn.model_selection import train_test_split, GridSearchCV, cross_val_score\n",
    "from sklearn.ensemble import RandomForestClassifier\n",
    "from sklearn.metrics import classification_report, confusion_matrix, accuracy_score\n",
    "import pickle"
   ]
  },
  {
   "cell_type": "markdown",
   "id": "84737b80-feec-4e23-86e8-2f5868044d43",
   "metadata": {},
   "source": [
    "**Data Collection and Processing**"
   ]
  },
  {
   "cell_type": "code",
   "execution_count": 39,
   "id": "afb1b45e-72d7-4555-92d7-f4d5404c3214",
   "metadata": {},
   "outputs": [
    {
     "name": "stdout",
     "output_type": "stream",
     "text": [
      "Data Info:\n",
      "<class 'pandas.core.frame.DataFrame'>\n",
      "RangeIndex: 311 entries, 0 to 310\n",
      "Data columns (total 7 columns):\n",
      " #   Column           Non-Null Count  Dtype  \n",
      "---  ------           --------------  -----  \n",
      " 0   date             311 non-null    object \n",
      " 1   avg_temperature  296 non-null    float64\n",
      " 2   humidity         296 non-null    float64\n",
      " 3   avg_wind_speed   296 non-null    float64\n",
      " 4   rain_or_not      311 non-null    object \n",
      " 5   cloud_cover      296 non-null    float64\n",
      " 6   pressure         311 non-null    float64\n",
      "dtypes: float64(5), object(2)\n",
      "memory usage: 17.1+ KB\n"
     ]
    }
   ],
   "source": [
    "data = pd.read_csv(\"weather_data.csv\")\n",
    "# remove extra spaces in each columnabs\n",
    "data.columns.str.strip()\n",
    "print(\"Data Info:\")\n",
    "data.info()"
   ]
  },
  {
   "cell_type": "code",
   "execution_count": 40,
   "id": "b225859e-edb1-45aa-8272-1298c174af42",
   "metadata": {},
   "outputs": [
    {
     "name": "stdout",
     "output_type": "stream",
     "text": [
      "<class 'pandas.core.frame.DataFrame'>\n",
      "RangeIndex: 311 entries, 0 to 310\n",
      "Data columns (total 6 columns):\n",
      " #   Column           Non-Null Count  Dtype  \n",
      "---  ------           --------------  -----  \n",
      " 0   avg_temperature  296 non-null    float64\n",
      " 1   humidity         296 non-null    float64\n",
      " 2   avg_wind_speed   296 non-null    float64\n",
      " 3   rain_or_not      311 non-null    object \n",
      " 4   cloud_cover      296 non-null    float64\n",
      " 5   pressure         311 non-null    float64\n",
      "dtypes: float64(5), object(1)\n",
      "memory usage: 14.7+ KB\n"
     ]
    },
    {
     "data": {
      "text/html": [
       "<div>\n",
       "<style scoped>\n",
       "    .dataframe tbody tr th:only-of-type {\n",
       "        vertical-align: middle;\n",
       "    }\n",
       "\n",
       "    .dataframe tbody tr th {\n",
       "        vertical-align: top;\n",
       "    }\n",
       "\n",
       "    .dataframe thead th {\n",
       "        text-align: right;\n",
       "    }\n",
       "</style>\n",
       "<table border=\"1\" class=\"dataframe\">\n",
       "  <thead>\n",
       "    <tr style=\"text-align: right;\">\n",
       "      <th></th>\n",
       "      <th>avg_temperature</th>\n",
       "      <th>humidity</th>\n",
       "      <th>avg_wind_speed</th>\n",
       "      <th>rain_or_not</th>\n",
       "      <th>cloud_cover</th>\n",
       "      <th>pressure</th>\n",
       "    </tr>\n",
       "  </thead>\n",
       "  <tbody>\n",
       "    <tr>\n",
       "      <th>0</th>\n",
       "      <td>23.745401</td>\n",
       "      <td>46.140905</td>\n",
       "      <td>7.845981</td>\n",
       "      <td>Rain</td>\n",
       "      <td>20.851051</td>\n",
       "      <td>992.965681</td>\n",
       "    </tr>\n",
       "    <tr>\n",
       "      <th>1</th>\n",
       "      <td>30.030503</td>\n",
       "      <td>59.876587</td>\n",
       "      <td>5.382457</td>\n",
       "      <td>Rain</td>\n",
       "      <td>93.059521</td>\n",
       "      <td>1037.273025</td>\n",
       "    </tr>\n",
       "    <tr>\n",
       "      <th>2</th>\n",
       "      <td>28.365224</td>\n",
       "      <td>51.464618</td>\n",
       "      <td>13.158008</td>\n",
       "      <td>Rain</td>\n",
       "      <td>11.636640</td>\n",
       "      <td>1034.193357</td>\n",
       "    </tr>\n",
       "    <tr>\n",
       "      <th>3</th>\n",
       "      <td>27.550929</td>\n",
       "      <td>53.103799</td>\n",
       "      <td>5.886677</td>\n",
       "      <td>Rain</td>\n",
       "      <td>81.744971</td>\n",
       "      <td>968.610142</td>\n",
       "    </tr>\n",
       "    <tr>\n",
       "      <th>4</th>\n",
       "      <td>23.639303</td>\n",
       "      <td>57.826186</td>\n",
       "      <td>12.248992</td>\n",
       "      <td>Rain</td>\n",
       "      <td>38.062329</td>\n",
       "      <td>1030.264331</td>\n",
       "    </tr>\n",
       "  </tbody>\n",
       "</table>\n",
       "</div>"
      ],
      "text/plain": [
       "   avg_temperature   humidity  avg_wind_speed rain_or_not  cloud_cover  \\\n",
       "0        23.745401  46.140905        7.845981        Rain    20.851051   \n",
       "1        30.030503  59.876587        5.382457        Rain    93.059521   \n",
       "2        28.365224  51.464618       13.158008        Rain    11.636640   \n",
       "3        27.550929  53.103799        5.886677        Rain    81.744971   \n",
       "4        23.639303  57.826186       12.248992        Rain    38.062329   \n",
       "\n",
       "      pressure  \n",
       "0   992.965681  \n",
       "1  1037.273025  \n",
       "2  1034.193357  \n",
       "3   968.610142  \n",
       "4  1030.264331  "
      ]
     },
     "execution_count": 40,
     "metadata": {},
     "output_type": "execute_result"
    }
   ],
   "source": [
    "# drop the unnessasary column date\n",
    "data = data.drop(columns=['date'])\n",
    "data.info()\n",
    "data.head()"
   ]
  },
  {
   "cell_type": "code",
   "execution_count": 42,
   "id": "584a8f3b-9edc-48c7-b21e-0269c5f31190",
   "metadata": {},
   "outputs": [
    {
     "data": {
      "text/plain": [
       "avg_temperature    15\n",
       "humidity           15\n",
       "avg_wind_speed     15\n",
       "rain_or_not         0\n",
       "cloud_cover        15\n",
       "pressure            0\n",
       "dtype: int64"
      ]
     },
     "execution_count": 42,
     "metadata": {},
     "output_type": "execute_result"
    }
   ],
   "source": [
    "# check for number of missing values\n",
    "data.isnull().sum()"
   ]
  },
  {
   "cell_type": "code",
   "execution_count": 43,
   "id": "2b31a6ce-0a99-4165-a4ea-e8203c8ec109",
   "metadata": {
    "collapsed": true,
    "jupyter": {
     "outputs_hidden": true
    }
   },
   "outputs": [
    {
     "name": "stderr",
     "output_type": "stream",
     "text": [
      "C:\\Users\\HP\\AppData\\Local\\Temp\\ipykernel_13816\\1569778075.py:5: FutureWarning: A value is trying to be set on a copy of a DataFrame or Series through chained assignment using an inplace method.\n",
      "The behavior will change in pandas 3.0. This inplace method will never work because the intermediate object on which we are setting values always behaves as a copy.\n",
      "\n",
      "For example, when doing 'df[col].method(value, inplace=True)', try using 'df.method({col: value}, inplace=True)' or df[col] = df[col].method(value) instead, to perform the operation inplace on the original object.\n",
      "\n",
      "\n",
      "  data[col].fillna(data[col].median(), inplace=True)\n",
      "C:\\Users\\HP\\AppData\\Local\\Temp\\ipykernel_13816\\1569778075.py:5: FutureWarning: A value is trying to be set on a copy of a DataFrame or Series through chained assignment using an inplace method.\n",
      "The behavior will change in pandas 3.0. This inplace method will never work because the intermediate object on which we are setting values always behaves as a copy.\n",
      "\n",
      "For example, when doing 'df[col].method(value, inplace=True)', try using 'df.method({col: value}, inplace=True)' or df[col] = df[col].method(value) instead, to perform the operation inplace on the original object.\n",
      "\n",
      "\n",
      "  data[col].fillna(data[col].median(), inplace=True)\n",
      "C:\\Users\\HP\\AppData\\Local\\Temp\\ipykernel_13816\\1569778075.py:5: FutureWarning: A value is trying to be set on a copy of a DataFrame or Series through chained assignment using an inplace method.\n",
      "The behavior will change in pandas 3.0. This inplace method will never work because the intermediate object on which we are setting values always behaves as a copy.\n",
      "\n",
      "For example, when doing 'df[col].method(value, inplace=True)', try using 'df.method({col: value}, inplace=True)' or df[col] = df[col].method(value) instead, to perform the operation inplace on the original object.\n",
      "\n",
      "\n",
      "  data[col].fillna(data[col].median(), inplace=True)\n",
      "C:\\Users\\HP\\AppData\\Local\\Temp\\ipykernel_13816\\1569778075.py:5: FutureWarning: A value is trying to be set on a copy of a DataFrame or Series through chained assignment using an inplace method.\n",
      "The behavior will change in pandas 3.0. This inplace method will never work because the intermediate object on which we are setting values always behaves as a copy.\n",
      "\n",
      "For example, when doing 'df[col].method(value, inplace=True)', try using 'df.method({col: value}, inplace=True)' or df[col] = df[col].method(value) instead, to perform the operation inplace on the original object.\n",
      "\n",
      "\n",
      "  data[col].fillna(data[col].median(), inplace=True)\n"
     ]
    },
    {
     "data": {
      "text/html": [
       "<div>\n",
       "<style scoped>\n",
       "    .dataframe tbody tr th:only-of-type {\n",
       "        vertical-align: middle;\n",
       "    }\n",
       "\n",
       "    .dataframe tbody tr th {\n",
       "        vertical-align: top;\n",
       "    }\n",
       "\n",
       "    .dataframe thead th {\n",
       "        text-align: right;\n",
       "    }\n",
       "</style>\n",
       "<table border=\"1\" class=\"dataframe\">\n",
       "  <thead>\n",
       "    <tr style=\"text-align: right;\">\n",
       "      <th></th>\n",
       "      <th>avg_temperature</th>\n",
       "      <th>humidity</th>\n",
       "      <th>avg_wind_speed</th>\n",
       "      <th>rain_or_not</th>\n",
       "      <th>cloud_cover</th>\n",
       "      <th>pressure</th>\n",
       "    </tr>\n",
       "  </thead>\n",
       "  <tbody>\n",
       "    <tr>\n",
       "      <th>0</th>\n",
       "      <td>23.745401</td>\n",
       "      <td>46.140905</td>\n",
       "      <td>7.845981</td>\n",
       "      <td>Rain</td>\n",
       "      <td>20.851051</td>\n",
       "      <td>992.965681</td>\n",
       "    </tr>\n",
       "    <tr>\n",
       "      <th>1</th>\n",
       "      <td>30.030503</td>\n",
       "      <td>59.876587</td>\n",
       "      <td>5.382457</td>\n",
       "      <td>Rain</td>\n",
       "      <td>93.059521</td>\n",
       "      <td>1037.273025</td>\n",
       "    </tr>\n",
       "    <tr>\n",
       "      <th>2</th>\n",
       "      <td>28.365224</td>\n",
       "      <td>51.464618</td>\n",
       "      <td>13.158008</td>\n",
       "      <td>Rain</td>\n",
       "      <td>11.636640</td>\n",
       "      <td>1034.193357</td>\n",
       "    </tr>\n",
       "    <tr>\n",
       "      <th>3</th>\n",
       "      <td>27.550929</td>\n",
       "      <td>53.103799</td>\n",
       "      <td>5.886677</td>\n",
       "      <td>Rain</td>\n",
       "      <td>81.744971</td>\n",
       "      <td>968.610142</td>\n",
       "    </tr>\n",
       "    <tr>\n",
       "      <th>4</th>\n",
       "      <td>23.639303</td>\n",
       "      <td>57.826186</td>\n",
       "      <td>12.248992</td>\n",
       "      <td>Rain</td>\n",
       "      <td>38.062329</td>\n",
       "      <td>1030.264331</td>\n",
       "    </tr>\n",
       "    <tr>\n",
       "      <th>...</th>\n",
       "      <td>...</td>\n",
       "      <td>...</td>\n",
       "      <td>...</td>\n",
       "      <td>...</td>\n",
       "      <td>...</td>\n",
       "      <td>...</td>\n",
       "    </tr>\n",
       "    <tr>\n",
       "      <th>306</th>\n",
       "      <td>22.072834</td>\n",
       "      <td>37.756910</td>\n",
       "      <td>4.729355</td>\n",
       "      <td>No Rain</td>\n",
       "      <td>27.307081</td>\n",
       "      <td>954.564875</td>\n",
       "    </tr>\n",
       "    <tr>\n",
       "      <th>307</th>\n",
       "      <td>19.645885</td>\n",
       "      <td>42.190604</td>\n",
       "      <td>8.092369</td>\n",
       "      <td>No Rain</td>\n",
       "      <td>51.807877</td>\n",
       "      <td>964.002410</td>\n",
       "    </tr>\n",
       "    <tr>\n",
       "      <th>308</th>\n",
       "      <td>23.884496</td>\n",
       "      <td>36.205508</td>\n",
       "      <td>11.860847</td>\n",
       "      <td>Rain</td>\n",
       "      <td>29.872557</td>\n",
       "      <td>977.681431</td>\n",
       "    </tr>\n",
       "    <tr>\n",
       "      <th>309</th>\n",
       "      <td>18.168418</td>\n",
       "      <td>34.785000</td>\n",
       "      <td>4.781288</td>\n",
       "      <td>No Rain</td>\n",
       "      <td>94.067925</td>\n",
       "      <td>1047.153269</td>\n",
       "    </tr>\n",
       "    <tr>\n",
       "      <th>310</th>\n",
       "      <td>19.389714</td>\n",
       "      <td>37.717416</td>\n",
       "      <td>9.388371</td>\n",
       "      <td>No Rain</td>\n",
       "      <td>25.929676</td>\n",
       "      <td>983.134701</td>\n",
       "    </tr>\n",
       "  </tbody>\n",
       "</table>\n",
       "<p>311 rows × 6 columns</p>\n",
       "</div>"
      ],
      "text/plain": [
       "     avg_temperature   humidity  avg_wind_speed rain_or_not  cloud_cover  \\\n",
       "0          23.745401  46.140905        7.845981        Rain    20.851051   \n",
       "1          30.030503  59.876587        5.382457        Rain    93.059521   \n",
       "2          28.365224  51.464618       13.158008        Rain    11.636640   \n",
       "3          27.550929  53.103799        5.886677        Rain    81.744971   \n",
       "4          23.639303  57.826186       12.248992        Rain    38.062329   \n",
       "..               ...        ...             ...         ...          ...   \n",
       "306        22.072834  37.756910        4.729355     No Rain    27.307081   \n",
       "307        19.645885  42.190604        8.092369     No Rain    51.807877   \n",
       "308        23.884496  36.205508       11.860847        Rain    29.872557   \n",
       "309        18.168418  34.785000        4.781288     No Rain    94.067925   \n",
       "310        19.389714  37.717416        9.388371     No Rain    25.929676   \n",
       "\n",
       "        pressure  \n",
       "0     992.965681  \n",
       "1    1037.273025  \n",
       "2    1034.193357  \n",
       "3     968.610142  \n",
       "4    1030.264331  \n",
       "..           ...  \n",
       "306   954.564875  \n",
       "307   964.002410  \n",
       "308   977.681431  \n",
       "309  1047.153269  \n",
       "310   983.134701  \n",
       "\n",
       "[311 rows x 6 columns]"
      ]
     },
     "execution_count": 43,
     "metadata": {},
     "output_type": "execute_result"
    }
   ],
   "source": [
    "def handle_missing_values(data):\n",
    "    for col in ['avg_temperature', 'humidity', 'avg_wind_speed', 'cloud_cover', 'pressure']:\n",
    "        data[col] = pd.to_numeric(data[col], errors='coerce')\n",
    "        if data[col].isnull().sum() > 0:\n",
    "            data[col].fillna(data[col].median(), inplace=True)\n",
    "    return data\n",
    "\n",
    "handle_missing_values(data)"
   ]
  },
  {
   "cell_type": "code",
   "execution_count": 48,
   "id": "a9e97098-b748-4886-afae-c3768304a308",
   "metadata": {},
   "outputs": [
    {
     "data": {
      "text/plain": [
       "array([1, 0])"
      ]
     },
     "execution_count": 48,
     "metadata": {},
     "output_type": "execute_result"
    }
   ],
   "source": [
    "# map Rain to 1 and No Rain to 0\n",
    "data['rain_or_not'] = data['rain_or_not'].map({\"Rain\" : 1, \"No Rain\" : 0})\n",
    "data['rain_or_not'].unique()"
   ]
  },
  {
   "cell_type": "markdown",
   "id": "dcb82d98-e415-463c-b9b9-df6dac77bf74",
   "metadata": {},
   "source": [
    "**Exploratory Data Analysis (EDA)**"
   ]
  },
  {
   "cell_type": "code",
   "execution_count": 50,
   "id": "9843b9c9-eb8e-44d0-a8e1-aef792c4b404",
   "metadata": {},
   "outputs": [
    {
     "data": {
      "text/plain": [
       "(311, 6)"
      ]
     },
     "execution_count": 50,
     "metadata": {},
     "output_type": "execute_result"
    }
   ],
   "source": [
    "data.shape"
   ]
  },
  {
   "cell_type": "code",
   "execution_count": 51,
   "id": "ddc849af-b228-43ea-984f-6e7527f183e2",
   "metadata": {},
   "outputs": [],
   "source": [
    "sns.set(style=\"whitegrid\")\n"
   ]
  },
  {
   "cell_type": "code",
   "execution_count": null,
   "id": "9d974e24-be62-44c8-94ca-3aec2b92591a",
   "metadata": {},
   "outputs": [],
   "source": []
  }
 ],
 "metadata": {
  "kernelspec": {
   "display_name": "Python 3 (ipykernel)",
   "language": "python",
   "name": "python3"
  },
  "language_info": {
   "codemirror_mode": {
    "name": "ipython",
    "version": 3
   },
   "file_extension": ".py",
   "mimetype": "text/x-python",
   "name": "python",
   "nbconvert_exporter": "python",
   "pygments_lexer": "ipython3",
   "version": "3.12.4"
  }
 },
 "nbformat": 4,
 "nbformat_minor": 5
}
